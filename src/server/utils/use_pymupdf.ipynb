{
 "cells": [
  {
   "cell_type": "code",
   "execution_count": 1,
   "metadata": {},
   "outputs": [
    {
     "name": "stdout",
     "output_type": "stream",
     "text": [
      "[['数据流名称：', '基于微信小程序与区块链技术的健身房预约系统用户信\\n息'],\n",
      " ['别名：', '基于微信小程序与区块链技术的健身房预约系统管理员\\n信息'],\n",
      " ['简述：', '用于输入管理员的基础信息'],\n",
      " ['来源：', '由系统使用者提供产生'],\n",
      " ['去向：', '加工 “用户管理”'],\n",
      " ['数据流量：', '不限'],\n",
      " ['组成：', '管理员编号+地址+姓名+密码+年龄+登记日期']]\n",
      "[['数据存储名称：', '基于微信小程序与区块链技术的健身房预约系统预定信\\n息'],\n",
      " ['简述：', '对来预订的学生会员信息进行存储管理'],\n",
      " ['组成：', '学生会员编号+学生会员姓名+预订时间'],\n",
      " ['组织方式：', '索引文件、系统编号为主健'],\n",
      " ['查询要求：', '要求能立即查询']]\n",
      "[['系统\\n学生 管理员', None], ['学生', '管理员']]\n",
      "[['表名', '基于微信小程序与区块链技术的健身房预约系统学生会员表', None, None, None, None, None],\n",
      " ['主键', 'ID', None, None, None, None, None],\n",
      " ['序号', '字段名称', '字段说明', '类型', '位数', '属性', '备注'],\n",
      " ['1', 'ID', '序号', 'Int', '8', '非空', '非空 主键,自增'],\n",
      " ['2', 'mingcheng', '名称', 'Varchar', '255', '非空', '存放名称信息数据'],\n",
      " ['3', 'zhanghao', '账号', 'Varchar', '255', '非空', '存放账号信息数据'],\n",
      " ['4', 'mima', '密码', 'Varchar', '255', '非空', '存放密码'],\n",
      " ['5', 'dizhi', '地址', 'Varchar', '255', '非空', '存放地址信息数据'],\n",
      " ['6', 'dianhua', '电话', 'Varchar', '255', '非空', '存放电话信息数据'],\n",
      " ['7', 'zhuangtai', '状态', 'Varchar', '255', '非空', '1、白名单 2、黑名单'],\n",
      " ['8', 'jifen', '积分', 'Varchar', '255', '非空', '存放积分信息数据'],\n",
      " ['9', 'weigui', '违规', 'Varchar', '255', '非空', '存放违规信息数据']]\n",
      "[['序号', '字段名称', '字段说明', '类型', '位数', '属性', '备注'],\n",
      " ['1', 'ID', '序号', 'Int', '8', '非空', '非空 主键,自增'],\n",
      " ['2', 'mingcheng', '名称', 'Varchar', '255', '非空', '存放名称信息数据'],\n",
      " ['3', 'shijian', '时间', 'Datetime', '100', '', '存放日期类型数据'],\n",
      " ['4', 'neirong', '内容', 'Varchar', '255', '非空', '存放内容信息数据']]\n",
      "[['3', 'xuesheng', '学生会员', 'Int', '8', '非空', '存放学生会员（xuesheng）的ID，外键'],\n",
      " ['4', 'shijian', '时间', 'Datetime', '100', '', '存放日期类型数据'],\n",
      " ['5', 'neirong', '内容', 'Varchar', '255', '非空', '存放内容信息数据'],\n",
      " ['6', 'zhuangtai', '状态', 'Varchar', '255', '非空', '1、待处理 2、已处理'],\n",
      " ['7', 'huifu', '回复', 'Varchar', '255', '非空', '存放回复信息数据']]\n",
      "[['2', 'mingcheng', '名称', 'Varchar', '255', '非\\n空', '存放名称信息数据'],\n",
      " ['3', 'xuesheng', '学生会员', 'Int', '8', '非\\n空', '存放学生会员（xuesheng）的ID，外键'],\n",
      " ['4', 'zuowei', '健身房健身器\\n材', 'Int', '8', '非\\n空', '存放健身房健身器材（zuowei）的ID，\\n外键'],\n",
      " ['5', 'shijian', '时间', 'Datetime', '100', '', '存放日期类型数据'],\n",
      " ['6', 'zhuangtai', '状态', 'Varchar', '255', '非\\n空', '1、预约中 2、使用 3、暂离 4、释放']]\n"
     ]
    }
   ],
   "source": [
    "import pymupdf\n",
    "from pprint import pprint\n",
    "\n",
    "pdf_path = \"../docs/abc.pdf\"\n",
    "\n",
    "doc = pymupdf.open(pdf_path)\n",
    "\n",
    "for page in doc:  # iterate the document pages\n",
    "    tabs = page.find_tables()\n",
    "    if tabs.tables:  # at least one table found?\n",
    "        pprint(tabs[0].extract())  #"
   ]
  }
 ],
 "metadata": {
  "kernelspec": {
   "display_name": ".venv",
   "language": "python",
   "name": "python3"
  },
  "language_info": {
   "codemirror_mode": {
    "name": "ipython",
    "version": 3
   },
   "file_extension": ".py",
   "mimetype": "text/x-python",
   "name": "python",
   "nbconvert_exporter": "python",
   "pygments_lexer": "ipython3",
   "version": "3.12.3"
  }
 },
 "nbformat": 4,
 "nbformat_minor": 2
}
